{
 "cells": [
  {
   "cell_type": "code",
   "execution_count": null,
   "metadata": {},
   "outputs": [],
   "source": [
    "import pandas as pd\n",
    "import scipy.stats as stats\n",
    "import numpy as np\n",
    "import seaborn as sns\n",
    "import matplotlib.pyplot as plt\n"
   ]
  },
  {
   "cell_type": "code",
   "execution_count": 32,
   "metadata": {},
   "outputs": [],
   "source": [
    "df = pd.read_excel(r'C:\\Users\\User\\Downloads\\ABTEST.xlsx')\n",
    "\n",
    "def analyze_ab_test(df):\n",
    "    \"\"\"\n",
    "    Realiza análise A/B testing para comparar diferentes grupos de tratamento\n",
    "    \"\"\"\n",
    "    \n",
    "    # Calcular taxa de conversão (conversões totais / pageviews)\n",
    "    df['taxa_conversao'] = df['reservas_total'] / df['pageviews']\n",
    "    df['taxa_click'] = df['Clicks'] / df['pageviews']\n",
    "    \n",
    "    # Separar grupos\n",
    "    grupo_controle = df[df['Celula'] == 0]['taxa_conversao']\n",
    "    grupo_algoritmo_atual = df[df['Celula'] == 1]['taxa_conversao']\n",
    "    grupo_algoritmo_novo = df[df['Celula'] == 2]['taxa_conversao']\n",
    "    \n",
    "    # Realizar testes estatísticos\n",
    "    # Comparação entre controle e algoritmo atual\n",
    "    stat_atual, pval_atual = stats.ttest_ind(grupo_controle, grupo_algoritmo_atual)\n",
    "    \n",
    "    # Comparação entre controle e algoritmo novo\n",
    "    stat_novo, pval_novo = stats.ttest_ind(grupo_controle, grupo_algoritmo_novo)\n",
    "    \n",
    "    # Calcular métricas descritivas\n",
    "    metricas = {\n",
    "        'médias': {\n",
    "            'controle': grupo_controle.mean(),\n",
    "            'algoritmo_atual': grupo_algoritmo_atual.mean(),\n",
    "            'algoritmo_novo': grupo_algoritmo_novo.mean()\n",
    "        },\n",
    "        'lift_percentual': {\n",
    "            'algoritmo_atual': ((grupo_algoritmo_atual.mean() - grupo_controle.mean()) / grupo_controle.mean() * 100),\n",
    "            'algoritmo_novo': ((grupo_algoritmo_novo.mean() - grupo_controle.mean()) / grupo_controle.mean() * 100)\n",
    "        },\n",
    "        'p_valores': {\n",
    "            'algoritmo_atual_vs_controle': pval_atual,\n",
    "            'algoritmo_novo_vs_controle': pval_novo\n",
    "        }\n",
    "    }\n",
    "    \n",
    "    # Análise por tipo de restaurante\n",
    "    analise_tipo = df.groupby(['Celula', 'tipo_de_restaurante'])['taxa_conversao'].agg(['Média', 'Contagem', 'Desvio Padrão']).round(4)\n",
    "    \n",
    "    return metricas, analise_tipo"
   ]
  },
  {
   "cell_type": "markdown",
   "metadata": {},
   "source": [
    "## Análise das Taxas de Conversão\n",
    "\n",
    "Comparação entre Grupos\n",
    "\n",
    "Grupo Controle  (0): Taxa média de conversão de 17.50%\n",
    "Algoritmo Atual (1): Taxa média de conversão de 15.06%\n",
    "Algoritmo Novo  (2): Taxa média de conversão de 18.73%\n"
   ]
  },
  {
   "cell_type": "code",
   "execution_count": 36,
   "metadata": {},
   "outputs": [
    {
     "name": "stdout",
     "output_type": "stream",
     "text": [
      "\n",
      "Médias de conversão:\n",
      "controle: 17.50\n",
      "algoritmo_atual: 15.06\n",
      "algoritmo_novo: 18.73\n"
     ]
    }
   ],
   "source": [
    "print(\"\\nMédias de conversão:\")\n",
    "for grupo, media in metricas['médias'].items():\n",
    "    print(f\"{grupo}: {media*100:.2f}\")"
   ]
  },
  {
   "cell_type": "markdown",
   "metadata": {},
   "source": [
    "O algoritmo atual mostrou uma queda de 13.97% em relação ao grupo controle\n",
    "\n",
    "O algoritmo novo demonstrou um aumento de 7.03% em relação ao grupo controle"
   ]
  },
  {
   "cell_type": "code",
   "execution_count": 37,
   "metadata": {},
   "outputs": [
    {
     "name": "stdout",
     "output_type": "stream",
     "text": [
      "\n",
      "Lift percentual vs controle:\n",
      "algoritmo_atual: -13.97%\n",
      "algoritmo_novo: 7.03%\n"
     ]
    }
   ],
   "source": [
    "print(\"\\nLift percentual vs controle:\")\n",
    "for grupo, lift in metricas['lift_percentual'].items():\n",
    "    print(f\"{grupo}: {lift:.2f}%\")"
   ]
  },
  {
   "cell_type": "markdown",
   "metadata": {},
   "source": [
    "## Significância Estatística\n",
    "\n",
    "Ambas as comparações apresentaram p-valor < 0.0001, indicando alta significância estatística. \n",
    "\n",
    "Com base no resultado deste p-valor podemos afirmar com 99% de confiança que existe uma diferença real\n",
    "\n",
    "entre os grupos testados e que os resultados observados não são devido ao acaso"
   ]
  },
  {
   "cell_type": "code",
   "execution_count": 38,
   "metadata": {},
   "outputs": [
    {
     "name": "stdout",
     "output_type": "stream",
     "text": [
      "\n",
      "P-valores:\n",
      "algoritmo_atual_vs_controle: 0.000000\n",
      "algoritmo_novo_vs_controle: 0.000000\n"
     ]
    }
   ],
   "source": [
    "print(\"\\nP-valores:\")\n",
    "for teste, pval in metricas['p_valores'].items():\n",
    "    print(f\"{teste}: {pval:.6f}\")"
   ]
  },
  {
   "cell_type": "markdown",
   "metadata": {},
   "source": [
    "## Desempenho Superior dos Restaurantes Independentes\n",
    "\n",
    "Consistentemente apresentam taxas de conversão mais altas em todos os grupos\n",
    "\n",
    "Diferença média de aproximadamente 7 pontos percentuais em relação às franquias\n",
    "\n",
    "Restaurantes Independentes\n",
    "\n",
    "\n",
    "Grupo Controle: 20.24% de conversão\n",
    "\n",
    "Algoritmo Atual: 16.94% de conversão (-16.30% vs controle)\n",
    "\n",
    "Algoritmo Novo: 21.93% de conversão (+8.35% vs controle)\n",
    "\n",
    "Restaurantes Franquia\n",
    "\n",
    "\n",
    "Grupo Controle: 13.39% de conversão\n",
    "\n",
    "Algoritmo Atual: 12.24% de conversão (-8.59% vs controle)\n",
    "\n",
    "Algoritmo Novo: 13.90% de conversão (+3.81% vs controle)"
   ]
  },
  {
   "cell_type": "code",
   "execution_count": 39,
   "metadata": {},
   "outputs": [
    {
     "name": "stdout",
     "output_type": "stream",
     "text": [
      "\n",
      "Análise por tipo de restaurante:\n"
     ]
    },
    {
     "data": {
      "text/html": [
       "<div>\n",
       "<style scoped>\n",
       "    .dataframe tbody tr th:only-of-type {\n",
       "        vertical-align: middle;\n",
       "    }\n",
       "\n",
       "    .dataframe tbody tr th {\n",
       "        vertical-align: top;\n",
       "    }\n",
       "\n",
       "    .dataframe thead th {\n",
       "        text-align: right;\n",
       "    }\n",
       "</style>\n",
       "<table border=\"1\" class=\"dataframe\">\n",
       "  <thead>\n",
       "    <tr style=\"text-align: right;\">\n",
       "      <th></th>\n",
       "      <th></th>\n",
       "      <th>mean</th>\n",
       "      <th>count</th>\n",
       "      <th>std</th>\n",
       "    </tr>\n",
       "    <tr>\n",
       "      <th>Celula</th>\n",
       "      <th>tipo_de_restaurante</th>\n",
       "      <th></th>\n",
       "      <th></th>\n",
       "      <th></th>\n",
       "    </tr>\n",
       "  </thead>\n",
       "  <tbody>\n",
       "    <tr>\n",
       "      <th rowspan=\"2\" valign=\"top\">0</th>\n",
       "      <th>franquia</th>\n",
       "      <td>0.1339</td>\n",
       "      <td>4000</td>\n",
       "      <td>0.0129</td>\n",
       "    </tr>\n",
       "    <tr>\n",
       "      <th>independente</th>\n",
       "      <td>0.2024</td>\n",
       "      <td>6000</td>\n",
       "      <td>0.0268</td>\n",
       "    </tr>\n",
       "    <tr>\n",
       "      <th rowspan=\"2\" valign=\"top\">1</th>\n",
       "      <th>franquia</th>\n",
       "      <td>0.1224</td>\n",
       "      <td>4000</td>\n",
       "      <td>0.0118</td>\n",
       "    </tr>\n",
       "    <tr>\n",
       "      <th>independente</th>\n",
       "      <td>0.1694</td>\n",
       "      <td>6000</td>\n",
       "      <td>0.0198</td>\n",
       "    </tr>\n",
       "    <tr>\n",
       "      <th rowspan=\"2\" valign=\"top\">2</th>\n",
       "      <th>franquia</th>\n",
       "      <td>0.1394</td>\n",
       "      <td>4000</td>\n",
       "      <td>0.0176</td>\n",
       "    </tr>\n",
       "    <tr>\n",
       "      <th>independente</th>\n",
       "      <td>0.2193</td>\n",
       "      <td>6000</td>\n",
       "      <td>0.0246</td>\n",
       "    </tr>\n",
       "  </tbody>\n",
       "</table>\n",
       "</div>"
      ],
      "text/plain": [
       "                              mean  count     std\n",
       "Celula tipo_de_restaurante                       \n",
       "0      franquia             0.1339   4000  0.0129\n",
       "       independente         0.2024   6000  0.0268\n",
       "1      franquia             0.1224   4000  0.0118\n",
       "       independente         0.1694   6000  0.0198\n",
       "2      franquia             0.1394   4000  0.0176\n",
       "       independente         0.2193   6000  0.0246"
      ]
     },
     "metadata": {},
     "output_type": "display_data"
    }
   ],
   "source": [
    "print(\"\\nAnálise por tipo de restaurante:\")\n",
    "display(analise_tipo)"
   ]
  },
  {
   "cell_type": "markdown",
   "metadata": {},
   "source": [
    "## Recomendações\n",
    "\n",
    "**Descontinuar Imediatamente o Algoritmo Atual** \n",
    "\n",
    "Está causando perdas significativas de conversão\n",
    "Impacto negativo consistente em todos os segmentos\n",
    "\n",
    "\n",
    "**Implementar o Algoritmo Novo** \n",
    "\n",
    "Demonstrou melhorias significativas em ambos os segmentos\n",
    "Estatisticamente significativo e com resultados positivos\n",
    "\n",
    "\n",
    "**Para Restaurantes Independentes**\n",
    "\n",
    "Priorizar a migração para o algoritmo novo\n",
    "Potencial de ganho mais expressivo (+8.35%)\n",
    "Desenvolver materiais de treinamento específicos\n",
    "\n",
    "\n",
    "**Para Franquias**\n",
    "\n",
    "Implementar o algoritmo novo com monitoramento adicional\n",
    "Investigar fatores que levam a taxas de conversão menores\n",
    "Considerar otimizações específicas para este segmento"
   ]
  }
 ],
 "metadata": {
  "kernelspec": {
   "display_name": "base",
   "language": "python",
   "name": "python3"
  },
  "language_info": {
   "codemirror_mode": {
    "name": "ipython",
    "version": 3
   },
   "file_extension": ".py",
   "mimetype": "text/x-python",
   "name": "python",
   "nbconvert_exporter": "python",
   "pygments_lexer": "ipython3",
   "version": "3.12.7"
  }
 },
 "nbformat": 4,
 "nbformat_minor": 2
}
